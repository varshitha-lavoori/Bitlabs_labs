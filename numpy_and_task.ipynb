{
 "cells": [
  {
   "cell_type": "code",
   "execution_count": 1,
   "id": "7caa1e0f",
   "metadata": {},
   "outputs": [
    {
     "name": "stdout",
     "output_type": "stream",
     "text": [
      "Requirement already satisfied: numpy in c:\\users\\cvr\\anaconda3\\lib\\site-packages (1.24.3)\n",
      "Note: you may need to restart the kernel to use updated packages.\n"
     ]
    }
   ],
   "source": [
    "pip install numpy"
   ]
  },
  {
   "cell_type": "code",
   "execution_count": 2,
   "id": "dff6a3f9",
   "metadata": {},
   "outputs": [
    {
     "name": "stdout",
     "output_type": "stream",
     "text": [
      "[1 2 3 4]\n"
     ]
    }
   ],
   "source": [
    "import numpy as np\n",
    "#1D array\n",
    "arr=np.array([1,2,3,4])\n",
    "print(arr)"
   ]
  },
  {
   "cell_type": "code",
   "execution_count": 7,
   "id": "00cc79f1",
   "metadata": {},
   "outputs": [
    {
     "name": "stdout",
     "output_type": "stream",
     "text": [
      "[[1 2 3 4]\n",
      " [5 6 7 8]]\n"
     ]
    }
   ],
   "source": [
    "#2D array\n",
    "arr2=np.array([[1,2,3,4],[5,6,7,8]])\n",
    "print(arr2)"
   ]
  },
  {
   "cell_type": "code",
   "execution_count": 9,
   "id": "ff425420",
   "metadata": {},
   "outputs": [
    {
     "name": "stdout",
     "output_type": "stream",
     "text": [
      "[[0. 0. 0.]\n",
      " [0. 0. 0.]]\n"
     ]
    }
   ],
   "source": [
    "zero=np.zeros((2,3))\n",
    "print(zero)"
   ]
  },
  {
   "cell_type": "code",
   "execution_count": 10,
   "id": "35e292cf",
   "metadata": {},
   "outputs": [
    {
     "name": "stdout",
     "output_type": "stream",
     "text": [
      "[[1. 1. 1. 1.]\n",
      " [1. 1. 1. 1.]\n",
      " [1. 1. 1. 1.]]\n"
     ]
    }
   ],
   "source": [
    "one=np.ones((3,4))\n",
    "print(one)"
   ]
  },
  {
   "cell_type": "code",
   "execution_count": 16,
   "id": "434b1fe8",
   "metadata": {},
   "outputs": [
    {
     "name": "stdout",
     "output_type": "stream",
     "text": [
      "[[0.59358439 0.43556145]\n",
      " [0.66267496 0.77371426]\n",
      " [0.17409425 0.12004364]]\n"
     ]
    }
   ],
   "source": [
    "rand=np.random.random((3,2))\n",
    "print(rand)"
   ]
  },
  {
   "cell_type": "code",
   "execution_count": 17,
   "id": "b39511bf",
   "metadata": {},
   "outputs": [
    {
     "name": "stdout",
     "output_type": "stream",
     "text": [
      "[[1. 0. 0.]\n",
      " [0. 1. 0.]\n",
      " [0. 0. 1.]]\n"
     ]
    }
   ],
   "source": [
    "#identity matrix\n",
    "iden=np.eye(3)\n",
    "print(iden)"
   ]
  },
  {
   "cell_type": "code",
   "execution_count": 20,
   "id": "f34abad6",
   "metadata": {},
   "outputs": [
    {
     "name": "stdout",
     "output_type": "stream",
     "text": [
      "[ 0  2  4  6  8 10 12 14 16 18]\n"
     ]
    }
   ],
   "source": [
    "#range of values\n",
    "rang=np.arange(0,19,2)#start,stop,step\n",
    "print(rang)"
   ]
  },
  {
   "cell_type": "code",
   "execution_count": 31,
   "id": "d0504d14",
   "metadata": {},
   "outputs": [
    {
     "name": "stdout",
     "output_type": "stream",
     "text": [
      "[2 3] [ 9 10]\n",
      "2\n",
      "(2, 5)\n",
      "10\n",
      "int32\n",
      "2\n"
     ]
    }
   ],
   "source": [
    "arrr=np.array([[1,2,3,4,5],[6,7,8,9,10]])\n",
    "print(arrr[0][1:3],arrr[1][3:5])\n",
    "print(arrr[0][1])\n",
    "print(arrr.shape)\n",
    "print(arrr.size)\n",
    "print(arrr.dtype)\n",
    "print(arrr.ndim)"
   ]
  },
  {
   "cell_type": "code",
   "execution_count": 48,
   "id": "eca862ac",
   "metadata": {},
   "outputs": [
    {
     "name": "stdout",
     "output_type": "stream",
     "text": [
      "add: [24 36 48 60]\n",
      "sub: [-22 -32 -42 -52]\n",
      "mul: [ 23  68 135 224]\n",
      "div: [0.04347826 0.05882353 0.06666667 0.07142857]\n",
      "pow: [        1         0 155801427         0]\n",
      "mod: [1 2 3 4]\n"
     ]
    }
   ],
   "source": [
    "a=np.array([1,2,3,4])\n",
    "b=np.array([23,34,45,56])\n",
    "print(\"add:\",a+b)\n",
    "print(\"sub:\",a-b)\n",
    "print(\"mul:\",a*b)\n",
    "print(\"div:\",a/b)\n",
    "print(\"pow:\",a**b)\n",
    "print(\"mod:\",a%b)\n"
   ]
  },
  {
   "cell_type": "code",
   "execution_count": 45,
   "id": "714a387a",
   "metadata": {},
   "outputs": [
    {
     "name": "stdout",
     "output_type": "stream",
     "text": [
      "[[   12    26    42]\n",
      " [  253   528   825]\n",
      " [ 3774  7770 11988]]\n"
     ]
    }
   ],
   "source": [
    "a1=np.array([[1,2,3],[11,22,33],[111,222,333]])\n",
    "b1=np.array([[12,13,14],[23,24,25],[34,35,36]])\n",
    "print(a1*b1)"
   ]
  },
  {
   "cell_type": "code",
   "execution_count": 46,
   "id": "19de4393",
   "metadata": {},
   "outputs": [
    {
     "name": "stdout",
     "output_type": "stream",
     "text": [
      "[[  160   166   172]\n",
      " [ 1760  1826  1892]\n",
      " [17760 18426 19092]]\n"
     ]
    }
   ],
   "source": [
    "res=np.dot(a1,b1)\n",
    "print(res)"
   ]
  },
  {
   "cell_type": "code",
   "execution_count": 49,
   "id": "7dbdb17b",
   "metadata": {},
   "outputs": [
    {
     "data": {
      "text/plain": [
       "<BarContainer object of 4 artists>"
      ]
     },
     "execution_count": 49,
     "metadata": {},
     "output_type": "execute_result"
    },
    {
     "data": {
      "image/png": "[encoded data removed]",
      "text/plain": [
       "<Figure size 640x480 with 1 Axes>"
      ]
     },
     "metadata": {},
     "output_type": "display_data"
    }
   ],
   "source": [
    "import matplotlib.pyplot as plt\n",
    "plt.bar(a,b)"
   ]
  },
  {
   "cell_type": "code",
   "execution_count": 54,
   "id": "b12d97d9",
   "metadata": {},
   "outputs": [
    {
     "name": "stdout",
     "output_type": "stream",
     "text": [
      "exponetial: [ 2.71828183  7.3890561  20.08553692 54.59815003]\n",
      "square root: [1.         1.41421356 1.73205081 2.        ]\n",
      "log func: [0.         0.69314718 1.09861229 1.38629436]\n"
     ]
    }
   ],
   "source": [
    "print(\"exponetial:\",np.exp(a))\n",
    "print(\"square root:\",np.sqrt(a))\n",
    "print(\"log func:\",np.log(a))"
   ]
  },
  {
   "cell_type": "code",
   "execution_count": 55,
   "id": "110efb6f",
   "metadata": {},
   "outputs": [
    {
     "name": "stdout",
     "output_type": "stream",
     "text": [
      "sum is: 81\n",
      "mean: 13.5\n",
      "std deviation: 23.51418011895517\n",
      "max: 66\n",
      "min: 1\n"
     ]
    }
   ],
   "source": [
    "#aggregate functions\n",
    "ar=np.array([1,2,3,4,5,66])\n",
    "print(\"sum is:\",np.sum(ar))\n",
    "print(\"mean:\",np.mean(ar))\n",
    "print(\"std deviation:\",np.std(ar))\n",
    "print(\"max:\",np.max(ar))\n",
    "print(\"min:\",np.min(ar))"
   ]
  },
  {
   "cell_type": "code",
   "execution_count": 56,
   "id": "dbc9c2f9",
   "metadata": {},
   "outputs": [
    {
     "name": "stdout",
     "output_type": "stream",
     "text": [
      "[[ 1  2  3]\n",
      " [ 4  5 66]]\n"
     ]
    }
   ],
   "source": [
    "#converting 1d to 2d\n",
    "reshape=ar.reshape(2,3)\n",
    "print(reshape)"
   ]
  },
  {
   "cell_type": "code",
   "execution_count": 67,
   "id": "690a8fc3",
   "metadata": {},
   "outputs": [
    {
     "name": "stdout",
     "output_type": "stream",
     "text": [
      "vertical stack: [[1 2]\n",
      " [3 4]]\n",
      "horizontal stack: [3 4 3 4]\n"
     ]
    }
   ],
   "source": [
    "#stacking \n",
    "aa=np.array([1,2])\n",
    "bb=np.array([3,4])\n",
    "print(\"vertical stack:\",np.vstack((aa,bb)))\n",
    "print(\"horizontal stack:\",np.hstack((bb,bb)))"
   ]
  },
  {
   "cell_type": "code",
   "execution_count": 60,
   "id": "77fe110e",
   "metadata": {},
   "outputs": [
    {
     "name": "stdout",
     "output_type": "stream",
     "text": [
      "[array([1, 2]), array([3]), array([4])]\n"
     ]
    }
   ],
   "source": [
    "#splitting\n",
    "a=np.array([1,2,3,4])\n",
    "print(np.array_split(a,3))"
   ]
  },
  {
   "cell_type": "code",
   "execution_count": 61,
   "id": "f375b07f",
   "metadata": {},
   "outputs": [
    {
     "name": "stdout",
     "output_type": "stream",
     "text": [
      "[10  2  3  4]\n"
     ]
    }
   ],
   "source": [
    "#view shares memory\n",
    "arr=np.array([1,2,3,4])\n",
    "view=arr.view()\n",
    "view[0]=10\n",
    "print(arr)"
   ]
  },
  {
   "cell_type": "code",
   "execution_count": 65,
   "id": "71088ef6",
   "metadata": {},
   "outputs": [
    {
     "name": "stdout",
     "output_type": "stream",
     "text": [
      "[100   2   3   4]\n"
     ]
    }
   ],
   "source": [
    "#copy does not share memory\n",
    "copy=arr.copy()\n",
    "copy[0]=100\n",
    "#print(arr)\n",
    "print(copy)"
   ]
  },
  {
   "cell_type": "code",
   "execution_count": null,
   "id": "2c58022b",
   "metadata": {},
   "outputs": [],
   "source": []
  }
 ],
 "metadata": {
  "kernelspec": {
   "display_name": "Python 3 (ipykernel)",
   "language": "python",
   "name": "python3"
  },
  "language_info": {
   "codemirror_mode": {
    "name": "ipython",
    "version": 3
   },
   "file_extension": ".py",
   "mimetype": "text/x-python",
   "name": "python",
   "nbconvert_exporter": "python",
   "pygments_lexer": "ipython3",
   "version": "3.11.5"
  }
 },
 "nbformat": 4,
 "nbformat_minor": 5
}
